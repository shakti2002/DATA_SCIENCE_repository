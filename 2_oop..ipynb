{
 "cells": [
  {
   "cell_type": "code",
   "execution_count": 3,
   "id": "f6339ba8",
   "metadata": {},
   "outputs": [
    {
     "name": "stdout",
     "output_type": "stream",
     "text": [
      "tom cruise shoot a flim\n",
      "tom cruise says how are you\n",
      "maria sharapova says how are you\n"
     ]
    }
   ],
   "source": [
    "class Human:\n",
    "    def __init__(self, n, o):\n",
    "        self.name = n       \n",
    "        self.occupation = o \n",
    "        \n",
    "    def do_work(self):\n",
    "        if self.occupation == \"tennis player\":\n",
    "            print(self.name,\"plays tennis\")\n",
    "        elif self.occupation == \"actor\":\n",
    "            print(self.name,\"shoot a flim\")\n",
    "    def speak(self):\n",
    "        print(self.name,\"says how are you\")\n",
    "        \n",
    "tom= Human(\"tom cruise\",\"actor\")\n",
    "tom.do_work()\n",
    "tom.speak()\n",
    "\n",
    "maria =Human(\"maria sharapova\", \"tennis players\")\n",
    "maria.do_work()\n",
    "maria.speak()"
   ]
  },
  {
   "cell_type": "code",
   "execution_count": 3,
   "id": "3b25e690",
   "metadata": {},
   "outputs": [
    {
     "name": "stdout",
     "output_type": "stream",
     "text": [
      "('Data', 123, 3.14, 'Science')\n",
      "<class 'tuple'>\n",
      "123\n"
     ]
    }
   ],
   "source": [
    "tup = ('Data', 123, 3.14, 'Science')\n",
    "print(tup)          # print complete tuple\n",
    "print(type(tup))\n",
    "print(tup[1])       # print one element\n"
   ]
  },
  {
   "cell_type": "code",
   "execution_count": null,
   "id": "9c43a252",
   "metadata": {},
   "outputs": [],
   "source": []
  }
 ],
 "metadata": {
  "kernelspec": {
   "display_name": "Python 3 (ipykernel)",
   "language": "python",
   "name": "python3"
  },
  "language_info": {
   "codemirror_mode": {
    "name": "ipython",
    "version": 3
   },
   "file_extension": ".py",
   "mimetype": "text/x-python",
   "name": "python",
   "nbconvert_exporter": "python",
   "pygments_lexer": "ipython3",
   "version": "3.9.13"
  }
 },
 "nbformat": 4,
 "nbformat_minor": 5
}
