{
 "cells": [
  {
   "cell_type": "code",
   "execution_count": 2,
   "id": "b4a891ba",
   "metadata": {},
   "outputs": [
    {
     "name": "stdout",
     "output_type": "stream",
     "text": [
      "{\"tom\": {\"name\": \"tom\", \"address\": \"kn dy strret 34\", \"phone\": 2397128423}, \"bob\": {\"name\": \"bob\", \"address\": \"sdbjsdfawi\", \"phone\": 2153724572}}\n"
     ]
    }
   ],
   "source": [
    "book={}\n",
    "book['tom']={\"name\": \"tom\", \"address\": \"kn dy strret 34\",\"phone\": 2397128423 }\n",
    "book['bob']={'name': 'bob', 'address': 'sdbjsdfawi', 'phone': 2153724572}\n",
    "import json\n",
    "s= json.dumps(book)\n",
    "print(s)"
   ]
  },
  {
   "cell_type": "code",
   "execution_count": 4,
   "id": "d1105808",
   "metadata": {},
   "outputs": [],
   "source": [
    "with open(\"c:/data/book.txt\",\"w\") as f:\n",
    "    f.write(s)"
   ]
  },
  {
   "cell_type": "code",
   "execution_count": 5,
   "id": "0a1fa0ac",
   "metadata": {},
   "outputs": [
    {
     "data": {
      "text/plain": [
       "'{\"tom\": {\"name\": \"tom\", \"address\": \"kn dy strret 34\", \"phone\": 2397128423}, \"bob\": {\"name\": \"bob\", \"address\": \"sdbjsdfawi\", \"phone\": 2153724572}}'"
      ]
     },
     "execution_count": 5,
     "metadata": {},
     "output_type": "execute_result"
    }
   ],
   "source": [
    "f=open(\"c:/data/book.txt\",\"r\")\n",
    "s=f.read()\n",
    "s"
   ]
  },
  {
   "cell_type": "code",
   "execution_count": 6,
   "id": "1ddedfa6",
   "metadata": {},
   "outputs": [
    {
     "data": {
      "text/plain": [
       "{'tom': {'name': 'tom', 'address': 'kn dy strret 34', 'phone': 2397128423},\n",
       " 'bob': {'name': 'bob', 'address': 'sdbjsdfawi', 'phone': 2153724572}}"
      ]
     },
     "execution_count": 6,
     "metadata": {},
     "output_type": "execute_result"
    }
   ],
   "source": [
    "import json\n",
    "book=json.loads(s)\n",
    "book"
   ]
  },
  {
   "cell_type": "code",
   "execution_count": 7,
   "id": "7b1bbff0",
   "metadata": {},
   "outputs": [
    {
     "data": {
      "text/plain": [
       "dict"
      ]
     },
     "execution_count": 7,
     "metadata": {},
     "output_type": "execute_result"
    }
   ],
   "source": [
    "type(book)"
   ]
  },
  {
   "cell_type": "code",
   "execution_count": 9,
   "id": "4ecd9a9a",
   "metadata": {},
   "outputs": [
    {
     "data": {
      "text/plain": [
       "{'name': 'bob', 'address': 'sdbjsdfawi', 'phone': 2153724572}"
      ]
     },
     "execution_count": 9,
     "metadata": {},
     "output_type": "execute_result"
    }
   ],
   "source": [
    "book['bob']"
   ]
  },
  {
   "cell_type": "code",
   "execution_count": 10,
   "id": "ef32903f",
   "metadata": {},
   "outputs": [
    {
     "data": {
      "text/plain": [
       "2153724572"
      ]
     },
     "execution_count": 10,
     "metadata": {},
     "output_type": "execute_result"
    }
   ],
   "source": [
    "book['bob']['phone']"
   ]
  },
  {
   "cell_type": "code",
   "execution_count": 11,
   "id": "aae4be92",
   "metadata": {},
   "outputs": [
    {
     "name": "stdout",
     "output_type": "stream",
     "text": [
      "{'name': 'tom', 'address': 'kn dy strret 34', 'phone': 2397128423}\n",
      "{'name': 'bob', 'address': 'sdbjsdfawi', 'phone': 2153724572}\n"
     ]
    }
   ],
   "source": [
    "for person in book:\n",
    "    print(book[person])"
   ]
  },
  {
   "cell_type": "code",
   "execution_count": null,
   "id": "daabb87b",
   "metadata": {},
   "outputs": [],
   "source": []
  }
 ],
 "metadata": {
  "kernelspec": {
   "display_name": "Python 3 (ipykernel)",
   "language": "python",
   "name": "python3"
  },
  "language_info": {
   "codemirror_mode": {
    "name": "ipython",
    "version": 3
   },
   "file_extension": ".py",
   "mimetype": "text/x-python",
   "name": "python",
   "nbconvert_exporter": "python",
   "pygments_lexer": "ipython3",
   "version": "3.9.13"
  }
 },
 "nbformat": 4,
 "nbformat_minor": 5
}
